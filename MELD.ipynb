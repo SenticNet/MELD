{
  "nbformat": 4,
  "nbformat_minor": 0,
  "metadata": {
    "colab": {
      "name": "MELD.ipynb",
      "provenance": [],
      "collapsed_sections": [],
      "toc_visible": true,
      "authorship_tag": "ABX9TyMXsk7vXiSArHs+2jxDjPMw",
      "include_colab_link": true
    },
    "kernelspec": {
      "name": "python3",
      "display_name": "Python 3"
    },
    "accelerator": "GPU"
  },
  "cells": [
    {
      "cell_type": "markdown",
      "metadata": {
        "id": "view-in-github",
        "colab_type": "text"
      },
      "source": [
        "<a href=\"https://colab.research.google.com/github/tae898/MELD/blob/master/MELD.ipynb\" target=\"_parent\"><img src=\"https://colab.research.google.com/assets/colab-badge.svg\" alt=\"Open In Colab\"/></a>"
      ]
    },
    {
      "cell_type": "markdown",
      "metadata": {
        "id": "aRBu-e2U4988"
      },
      "source": [
        "# Prepare the repo, data, and label\n",
        "\n"
      ]
    },
    {
      "cell_type": "markdown",
      "metadata": {
        "id": "-Dcs1uPM0CaF"
      },
      "source": [
        "# Clone the repo"
      ]
    },
    {
      "cell_type": "code",
      "metadata": {
        "id": "dsHPMLvO0FKs",
        "outputId": "d2d0d6bb-6178-4cb8-a9ba-a2febb510561",
        "colab": {
          "base_uri": "https://localhost:8080/",
          "height": 155
        }
      },
      "source": [
        "%cd /content\n",
        "!rm -rf MELD\n",
        "!git clone https://github.com/tae898/MELD.git\n",
        "!rm -rf MELD/data/pickles\n",
        "!rm -rf MELD/data/models"
      ],
      "execution_count": 1,
      "outputs": [
        {
          "output_type": "stream",
          "text": [
            "/content\n",
            "Cloning into 'MELD'...\n",
            "remote: Enumerating objects: 3, done.\u001b[K\n",
            "remote: Counting objects: 100% (3/3), done.\u001b[K\n",
            "remote: Compressing objects: 100% (3/3), done.\u001b[K\n",
            "remote: Total 442 (delta 0), reused 0 (delta 0), pack-reused 439\u001b[K\n",
            "Receiving objects: 100% (442/442), 7.03 MiB | 9.65 MiB/s, done.\n",
            "Resolving deltas: 100% (231/231), done.\n"
          ],
          "name": "stdout"
        }
      ]
    },
    {
      "cell_type": "markdown",
      "metadata": {
        "id": "ZnIWWiRT8yhg"
      },
      "source": [
        "## Download the pre-computed features"
      ]
    },
    {
      "cell_type": "code",
      "metadata": {
        "id": "sqTYE5HU81Qc",
        "outputId": "aaca8ad8-3509-46fa-f582-3e20dd8fe65e",
        "colab": {
          "base_uri": "https://localhost:8080/",
          "height": 606
        }
      },
      "source": [
        "# wget to download\n",
        "!wget http://web.eecs.umich.edu/~mihalcea/downloads/MELD.Features.Models.tar.gz\n",
        "# tar to untar\n",
        "!tar -zxvf MELD.Features.Models.tar.gz"
      ],
      "execution_count": 2,
      "outputs": [
        {
          "output_type": "stream",
          "text": [
            "--2020-10-11 09:18:45--  http://web.eecs.umich.edu/~mihalcea/downloads/MELD.Features.Models.tar.gz\n",
            "Resolving web.eecs.umich.edu (web.eecs.umich.edu)... 141.212.113.214\n",
            "Connecting to web.eecs.umich.edu (web.eecs.umich.edu)|141.212.113.214|:80... connected.\n",
            "HTTP request sent, awaiting response... 200 OK\n",
            "Length: 922694594 (880M) [application/x-gzip]\n",
            "Saving to: ‘MELD.Features.Models.tar.gz’\n",
            "\n",
            "MELD.Features.Model 100%[===================>] 879.95M  28.0MB/s    in 32s     \n",
            "\n",
            "2020-10-11 09:19:17 (27.2 MB/s) - ‘MELD.Features.Models.tar.gz’ saved [922694594/922694594]\n",
            "\n",
            "MELD.Features.Models/\n",
            "MELD.Features.Models/models/\n",
            "MELD.Features.Models/models/audio_weights_emotion.hdf5\n",
            "MELD.Features.Models/models/text_weights_emotion.hdf5\n",
            "MELD.Features.Models/models/bimodal_weights_emotion.hdf5\n",
            "MELD.Features.Models/models/text_weights_sentiment.hdf5\n",
            "MELD.Features.Models/models/audio_weights_sentiment.hdf5\n",
            "MELD.Features.Models/models/bimodal_weights_sentiment.hdf5\n",
            "MELD.Features.Models/features/\n",
            "MELD.Features.Models/features/text_glove_CNN_sentiment.pkl\n",
            "MELD.Features.Models/features/text_glove_CNN_emotion.pkl\n",
            "MELD.Features.Models/features/text_emotion.pkl\n",
            "MELD.Features.Models/features/bimodal_sentiment.pkl\n",
            "MELD.Features.Models/features/text_glove_average_emotion.pkl\n",
            "MELD.Features.Models/features/audio_embeddings_feature_selection_sentiment.pkl\n",
            "MELD.Features.Models/features/data_sentiment.p\n",
            "MELD.Features.Models/features/data_emotion.p\n",
            "MELD.Features.Models/features/text_glove_average_sentiment.pkl\n",
            "MELD.Features.Models/features/audio_sentiment.pkl\n",
            "MELD.Features.Models/features/audio_embeddings_feature_selection_emotion.pkl\n",
            "MELD.Features.Models/features/text_sentiment.pkl\n",
            "MELD.Features.Models/features/audio_emotion.pkl\n",
            "MELD.Features.Models/README.txt\n"
          ],
          "name": "stdout"
        }
      ]
    },
    {
      "cell_type": "markdown",
      "metadata": {
        "id": "yqo53vKT08iK"
      },
      "source": [
        "## Move the features and models to the directory within the repo directory."
      ]
    },
    {
      "cell_type": "code",
      "metadata": {
        "id": "gSh83yth__OZ"
      },
      "source": [
        "!cp -rp MELD.Features.Models/features/ ./MELD/data/pickles/\n",
        "!cp -rp MELD.Features.Models/models/ ./MELD/data/models/"
      ],
      "execution_count": 3,
      "outputs": []
    },
    {
      "cell_type": "markdown",
      "metadata": {
        "id": "8uECheP8NhvE"
      },
      "source": [
        "## Run a test"
      ]
    },
    {
      "cell_type": "code",
      "metadata": {
        "id": "VkIY7YED1WVH",
        "outputId": "ff547ff9-1dab-410c-c903-dd0c683a37bf",
        "colab": {
          "base_uri": "https://localhost:8080/",
          "height": 1000
        }
      },
      "source": [
        "%cd /content/MELD\n",
        "!python baseline/baseline.py -classify Sentiment -modality audio -test"
      ],
      "execution_count": 16,
      "outputs": [
        {
          "output_type": "stream",
          "text": [
            "/content/MELD\n",
            "2020-10-11 10:06:55.691936: I tensorflow/stream_executor/platform/default/dso_loader.cc:48] Successfully opened dynamic library libcudart.so.10.1\n",
            "Model initiated for Sentiment classification\n",
            "Loading data\n",
            "Labels used for this classification:  {'neutral': 0, 'positive': 1, 'negative': 2}\n",
            "2020-10-11 10:07:02.152018: I tensorflow/stream_executor/platform/default/dso_loader.cc:48] Successfully opened dynamic library libcuda.so.1\n",
            "2020-10-11 10:07:02.187755: I tensorflow/stream_executor/cuda/cuda_gpu_executor.cc:982] successful NUMA node read from SysFS had negative value (-1), but there must be at least one NUMA node, so returning NUMA node zero\n",
            "2020-10-11 10:07:02.188311: I tensorflow/core/common_runtime/gpu/gpu_device.cc:1716] Found device 0 with properties: \n",
            "pciBusID: 0000:00:04.0 name: Tesla T4 computeCapability: 7.5\n",
            "coreClock: 1.59GHz coreCount: 40 deviceMemorySize: 14.73GiB deviceMemoryBandwidth: 298.08GiB/s\n",
            "2020-10-11 10:07:02.188356: I tensorflow/stream_executor/platform/default/dso_loader.cc:48] Successfully opened dynamic library libcudart.so.10.1\n",
            "2020-10-11 10:07:02.189986: I tensorflow/stream_executor/platform/default/dso_loader.cc:48] Successfully opened dynamic library libcublas.so.10\n",
            "2020-10-11 10:07:02.191455: I tensorflow/stream_executor/platform/default/dso_loader.cc:48] Successfully opened dynamic library libcufft.so.10\n",
            "2020-10-11 10:07:02.191815: I tensorflow/stream_executor/platform/default/dso_loader.cc:48] Successfully opened dynamic library libcurand.so.10\n",
            "2020-10-11 10:07:02.193250: I tensorflow/stream_executor/platform/default/dso_loader.cc:48] Successfully opened dynamic library libcusolver.so.10\n",
            "2020-10-11 10:07:02.193958: I tensorflow/stream_executor/platform/default/dso_loader.cc:48] Successfully opened dynamic library libcusparse.so.10\n",
            "2020-10-11 10:07:02.197017: I tensorflow/stream_executor/platform/default/dso_loader.cc:48] Successfully opened dynamic library libcudnn.so.7\n",
            "2020-10-11 10:07:02.197132: I tensorflow/stream_executor/cuda/cuda_gpu_executor.cc:982] successful NUMA node read from SysFS had negative value (-1), but there must be at least one NUMA node, so returning NUMA node zero\n",
            "2020-10-11 10:07:02.197699: I tensorflow/stream_executor/cuda/cuda_gpu_executor.cc:982] successful NUMA node read from SysFS had negative value (-1), but there must be at least one NUMA node, so returning NUMA node zero\n",
            "2020-10-11 10:07:02.198196: I tensorflow/core/common_runtime/gpu/gpu_device.cc:1858] Adding visible gpu devices: 0\n",
            "2020-10-11 10:07:02.198466: I tensorflow/core/platform/cpu_feature_guard.cc:142] This TensorFlow binary is optimized with oneAPI Deep Neural Network Library (oneDNN)to use the following CPU instructions in performance-critical operations:  AVX512F\n",
            "To enable them in other operations, rebuild TensorFlow with the appropriate compiler flags.\n",
            "2020-10-11 10:07:02.203348: I tensorflow/core/platform/profile_utils/cpu_utils.cc:104] CPU Frequency: 2000144999 Hz\n",
            "2020-10-11 10:07:02.203560: I tensorflow/compiler/xla/service/service.cc:168] XLA service 0x2c41480 initialized for platform Host (this does not guarantee that XLA will be used). Devices:\n",
            "2020-10-11 10:07:02.203590: I tensorflow/compiler/xla/service/service.cc:176]   StreamExecutor device (0): Host, Default Version\n",
            "2020-10-11 10:07:02.298202: I tensorflow/stream_executor/cuda/cuda_gpu_executor.cc:982] successful NUMA node read from SysFS had negative value (-1), but there must be at least one NUMA node, so returning NUMA node zero\n",
            "2020-10-11 10:07:02.298876: I tensorflow/compiler/xla/service/service.cc:168] XLA service 0x2c412c0 initialized for platform CUDA (this does not guarantee that XLA will be used). Devices:\n",
            "2020-10-11 10:07:02.298908: I tensorflow/compiler/xla/service/service.cc:176]   StreamExecutor device (0): Tesla T4, Compute Capability 7.5\n",
            "2020-10-11 10:07:02.299133: I tensorflow/stream_executor/cuda/cuda_gpu_executor.cc:982] successful NUMA node read from SysFS had negative value (-1), but there must be at least one NUMA node, so returning NUMA node zero\n",
            "2020-10-11 10:07:02.299665: I tensorflow/core/common_runtime/gpu/gpu_device.cc:1716] Found device 0 with properties: \n",
            "pciBusID: 0000:00:04.0 name: Tesla T4 computeCapability: 7.5\n",
            "coreClock: 1.59GHz coreCount: 40 deviceMemorySize: 14.73GiB deviceMemoryBandwidth: 298.08GiB/s\n",
            "2020-10-11 10:07:02.299711: I tensorflow/stream_executor/platform/default/dso_loader.cc:48] Successfully opened dynamic library libcudart.so.10.1\n",
            "2020-10-11 10:07:02.299758: I tensorflow/stream_executor/platform/default/dso_loader.cc:48] Successfully opened dynamic library libcublas.so.10\n",
            "2020-10-11 10:07:02.299779: I tensorflow/stream_executor/platform/default/dso_loader.cc:48] Successfully opened dynamic library libcufft.so.10\n",
            "2020-10-11 10:07:02.299799: I tensorflow/stream_executor/platform/default/dso_loader.cc:48] Successfully opened dynamic library libcurand.so.10\n",
            "2020-10-11 10:07:02.299818: I tensorflow/stream_executor/platform/default/dso_loader.cc:48] Successfully opened dynamic library libcusolver.so.10\n",
            "2020-10-11 10:07:02.299837: I tensorflow/stream_executor/platform/default/dso_loader.cc:48] Successfully opened dynamic library libcusparse.so.10\n",
            "2020-10-11 10:07:02.299855: I tensorflow/stream_executor/platform/default/dso_loader.cc:48] Successfully opened dynamic library libcudnn.so.7\n",
            "2020-10-11 10:07:02.299928: I tensorflow/stream_executor/cuda/cuda_gpu_executor.cc:982] successful NUMA node read from SysFS had negative value (-1), but there must be at least one NUMA node, so returning NUMA node zero\n",
            "2020-10-11 10:07:02.300465: I tensorflow/stream_executor/cuda/cuda_gpu_executor.cc:982] successful NUMA node read from SysFS had negative value (-1), but there must be at least one NUMA node, so returning NUMA node zero\n",
            "2020-10-11 10:07:02.300948: I tensorflow/core/common_runtime/gpu/gpu_device.cc:1858] Adding visible gpu devices: 0\n",
            "2020-10-11 10:07:02.300995: I tensorflow/stream_executor/platform/default/dso_loader.cc:48] Successfully opened dynamic library libcudart.so.10.1\n",
            "2020-10-11 10:07:02.851714: I tensorflow/core/common_runtime/gpu/gpu_device.cc:1257] Device interconnect StreamExecutor with strength 1 edge matrix:\n",
            "2020-10-11 10:07:02.851773: I tensorflow/core/common_runtime/gpu/gpu_device.cc:1263]      0 \n",
            "2020-10-11 10:07:02.851786: I tensorflow/core/common_runtime/gpu/gpu_device.cc:1276] 0:   N \n",
            "2020-10-11 10:07:02.852064: I tensorflow/stream_executor/cuda/cuda_gpu_executor.cc:982] successful NUMA node read from SysFS had negative value (-1), but there must be at least one NUMA node, so returning NUMA node zero\n",
            "2020-10-11 10:07:02.852679: I tensorflow/stream_executor/cuda/cuda_gpu_executor.cc:982] successful NUMA node read from SysFS had negative value (-1), but there must be at least one NUMA node, so returning NUMA node zero\n",
            "2020-10-11 10:07:02.853177: W tensorflow/core/common_runtime/gpu/gpu_bfc_allocator.cc:39] Overriding allow_growth setting because the TF_FORCE_GPU_ALLOW_GROWTH environment variable is set. Original config value was 0.\n",
            "2020-10-11 10:07:02.853219: I tensorflow/core/common_runtime/gpu/gpu_device.cc:1402] Created TensorFlow device (/job:localhost/replica:0/task:0/device:GPU:0 with 13962 MB memory) -> physical GPU (device: 0, name: Tesla T4, pci bus id: 0000:00:04.0, compute capability: 7.5)\n",
            "WARNING:tensorflow:Layer lstm_1 will not use cuDNN kernel since it doesn't meet the cuDNN kernel criteria. It will use generic GPU kernel as fallback when running on GPU\n",
            "WARNING:tensorflow:Layer lstm_1 will not use cuDNN kernel since it doesn't meet the cuDNN kernel criteria. It will use generic GPU kernel as fallback when running on GPU\n",
            "WARNING:tensorflow:Layer lstm_1 will not use cuDNN kernel since it doesn't meet the cuDNN kernel criteria. It will use generic GPU kernel as fallback when running on GPU\n",
            "WARNING:tensorflow:Layer lstm_2 will not use cuDNN kernel since it doesn't meet the cuDNN kernel criteria. It will use generic GPU kernel as fallback when running on GPU\n",
            "WARNING:tensorflow:Layer lstm_2 will not use cuDNN kernel since it doesn't meet the cuDNN kernel criteria. It will use generic GPU kernel as fallback when running on GPU\n",
            "WARNING:tensorflow:Layer lstm_2 will not use cuDNN kernel since it doesn't meet the cuDNN kernel criteria. It will use generic GPU kernel as fallback when running on GPU\n",
            "Traceback (most recent call last):\n",
            "  File \"baseline/baseline.py\", line 286, in <module>\n",
            "    model.test_model()\n",
            "  File \"baseline/baseline.py\", line 235, in test_model\n",
            "    intermediate_layer_model = Model(input=model.input, output=model.get_layer(\"utter\").output)\n",
            "  File \"/usr/local/lib/python3.6/dist-packages/tensorflow/python/training/tracking/base.py\", line 457, in _method_wrapper\n",
            "    result = method(self, *args, **kwargs)\n",
            "  File \"/usr/local/lib/python3.6/dist-packages/tensorflow/python/keras/engine/training.py\", line 262, in __init__\n",
            "    'name', 'autocast'})\n",
            "  File \"/usr/local/lib/python3.6/dist-packages/tensorflow/python/keras/utils/generic_utils.py\", line 778, in validate_kwargs\n",
            "    raise TypeError(error_message, kwarg)\n",
            "TypeError: ('Keyword argument not understood:', 'input')\n"
          ],
          "name": "stdout"
        }
      ]
    },
    {
      "cell_type": "code",
      "metadata": {
        "id": "E9a8r0kMHBt1"
      },
      "source": [
        ""
      ],
      "execution_count": null,
      "outputs": []
    }
  ]
}